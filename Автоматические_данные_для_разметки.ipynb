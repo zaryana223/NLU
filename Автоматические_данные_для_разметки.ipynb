{
  "nbformat": 4,
  "nbformat_minor": 0,
  "metadata": {
    "colab": {
      "provenance": [],
      "collapsed_sections": [
        "5SP39p-UH4nY"
      ]
    },
    "kernelspec": {
      "name": "python3",
      "display_name": "Python 3"
    },
    "language_info": {
      "name": "python"
    }
  },
  "cells": [
    {
      "cell_type": "markdown",
      "source": [
        "# Обработка"
      ],
      "metadata": {
        "id": "ZqLy75FvH-jU"
      }
    },
    {
      "cell_type": "code",
      "source": [
        "!pip install pymorphy3"
      ],
      "metadata": {
        "colab": {
          "base_uri": "https://localhost:8080/"
        },
        "id": "H3x2hvjxSFb2",
        "outputId": "b3ebcd0f-1352-4649-d7f9-56f8402491f6"
      },
      "execution_count": null,
      "outputs": [
        {
          "output_type": "stream",
          "name": "stdout",
          "text": [
            "Collecting pymorphy3\n",
            "  Downloading pymorphy3-2.0.3-py3-none-any.whl.metadata (1.9 kB)\n",
            "Collecting dawg2-python>=0.8.0 (from pymorphy3)\n",
            "  Downloading dawg2_python-0.9.0-py3-none-any.whl.metadata (7.5 kB)\n",
            "Collecting pymorphy3-dicts-ru (from pymorphy3)\n",
            "  Downloading pymorphy3_dicts_ru-2.4.417150.4580142-py2.py3-none-any.whl.metadata (2.0 kB)\n",
            "Downloading pymorphy3-2.0.3-py3-none-any.whl (53 kB)\n",
            "\u001b[2K   \u001b[90m━━━━━━━━━━━━━━━━━━━━━━━━━━━━━━━━━━━━━━━━\u001b[0m \u001b[32m53.8/53.8 kB\u001b[0m \u001b[31m1.9 MB/s\u001b[0m eta \u001b[36m0:00:00\u001b[0m\n",
            "\u001b[?25hDownloading dawg2_python-0.9.0-py3-none-any.whl (9.3 kB)\n",
            "Downloading pymorphy3_dicts_ru-2.4.417150.4580142-py2.py3-none-any.whl (8.4 MB)\n",
            "\u001b[2K   \u001b[90m━━━━━━━━━━━━━━━━━━━━━━━━━━━━━━━━━━━━━━━━\u001b[0m \u001b[32m8.4/8.4 MB\u001b[0m \u001b[31m47.1 MB/s\u001b[0m eta \u001b[36m0:00:00\u001b[0m\n",
            "\u001b[?25hInstalling collected packages: pymorphy3-dicts-ru, dawg2-python, pymorphy3\n",
            "Successfully installed dawg2-python-0.9.0 pymorphy3-2.0.3 pymorphy3-dicts-ru-2.4.417150.4580142\n"
          ]
        }
      ]
    },
    {
      "cell_type": "code",
      "source": [
        "from pymorphy3 import MorphAnalyzer\n",
        "from random import sample, choice\n",
        "morph = MorphAnalyzer()"
      ],
      "metadata": {
        "id": "wxGUquW3TC16"
      },
      "execution_count": null,
      "outputs": []
    },
    {
      "cell_type": "code",
      "source": [
        "def conjugate(name, case):\n",
        "  verb = ['VERB', 'INFN', 'PRTS', 'GRND']\n",
        "  words = name.split()\n",
        "  parsed = [morph.parse(word) for word in words]\n",
        "  isverb = list(filter(lambda x: x[0].tag.POS in verb, parsed))\n",
        "  if isverb:\n",
        "    return words\n",
        "  conjugated = []\n",
        "  for i, pars in enumerate(parsed):\n",
        "    if pars[0].tag.POS in ['NOUN', 'ADJF', 'PRTF', 'NUMR']:\n",
        "      try:\n",
        "        var = 0\n",
        "        while pars[var].tag.case != 'nomn':\n",
        "          var += 1\n",
        "        conjugated.append(pars[var].inflect({case}).word.capitalize())\n",
        "      except:\n",
        "        conjugated.append(words[i])\n",
        "    else:\n",
        "      conjugated.append(words[i])\n",
        "  return conjugated"
      ],
      "metadata": {
        "id": "folYGxwnSQ_G"
      },
      "execution_count": null,
      "outputs": []
    },
    {
      "cell_type": "code",
      "source": [
        "def change(sentence, eng, rus, case, type, places, new_rus, new_eng):\n",
        "  start, finish = map(int, places.split(','))\n",
        "  punctuation = sentence.split(rus)[1][0]\n",
        "  conjugated = conjugate(new_rus, case)\n",
        "  new_sentence = sentence.replace(eng, new_eng, 1).replace(rus, ' '.join(conjugated))\n",
        "  lines = new_sentence.split('\\n')\n",
        "  intent = lines[3].split()[2]\n",
        "  # lines.pop(0) # убираем id\n",
        "  i = 0\n",
        "  while lines[i].startswith('#') or int(lines[i].split('\\t')[0]) < start:\n",
        "    i += 1\n",
        "  while i != len(lines) and int(lines[i].split('\\t')[0]) <= finish:\n",
        "    lines.pop(i)\n",
        "  numeration = start\n",
        "  for j, word in enumerate(conjugated):\n",
        "    if j == 0:\n",
        "      new_line = f'{numeration}\\t{word}\\t{intent}\\tB-{type}'\n",
        "    else:\n",
        "      new_line = f'{numeration}\\t{word}\\t{intent}\\tI-{type}'\n",
        "    if j == len(conjugated) - 1 and punctuation in ['.', ',']:\n",
        "      new_line = new_line.replace(word, word + punctuation)\n",
        "    lines.insert(i, new_line)\n",
        "    i += 1\n",
        "    numeration += 1\n",
        "  while i != len(lines):\n",
        "    lines[i] = lines[i].replace(lines[i].split('\\t')[0], str(numeration))\n",
        "    i += 1\n",
        "    numeration += 1\n",
        "  return '\\n'.join(lines)"
      ],
      "metadata": {
        "id": "OFNkNyJQuMFv"
      },
      "execution_count": null,
      "outputs": []
    },
    {
      "cell_type": "code",
      "source": [
        "def generation(example, gap, filler, generated, size = 1, album = False):\n",
        "  with open(example, 'r') as f:\n",
        "    sentences = f.read().split('\\n\\n')\n",
        "  with open(gap, 'r') as f:\n",
        "    words = f.read().split('\\n\\n')\n",
        "  with open(filler, 'r') as f:\n",
        "    new_words = f.read().split('\\n')\n",
        "  paired = list(zip(sentences, words))\n",
        "  for new_word in new_words:\n",
        "    new = new_word.split('\\t')\n",
        "    for sentence, word in sample(paired, size):\n",
        "      old = word.split('\\n')\n",
        "      try:\n",
        "        if album:\n",
        "          start1, finish1 = map(int, old[5].split(','))\n",
        "          start2, finish2 = map(int, old[10].split(','))\n",
        "          gap = len(new[0].split()) - (finish1 - start1) - 1\n",
        "          start2 += gap\n",
        "          finish2 += gap\n",
        "          old[10] = f'{start2},{finish2}'\n",
        "          changed = change(sentence, *old[1:6], *new[:2])\n",
        "          changed = change(changed, *old[6:], *new[2:]) # changed = change('id\\n'+changed, *old[6:], *new[2:])\n",
        "        else:\n",
        "          changed = change(sentence, *old[1:], *new)\n",
        "      except Exception as e:\n",
        "        print(e, old, new)\n",
        "      with open(generated, 'a') as f:\n",
        "        f.write(changed)\n",
        "        f.write('\\n\\n')"
      ],
      "metadata": {
        "id": "toCzKGtOQdmT"
      },
      "execution_count": null,
      "outputs": []
    },
    {
      "cell_type": "code",
      "source": [
        "def changename(sentence, eng, rus, case, new_rus, new_eng):\n",
        "  conjugated = conjugate(new_rus, case)\n",
        "  new_sentence = sentence.replace(eng, new_eng).replace(rus, ' '.join(conjugated))\n",
        "  lines = new_sentence.split('\\n')\n",
        "  # lines.pop(0) # убираем id\n",
        "  return '\\n'.join(lines)"
      ],
      "metadata": {
        "id": "uIqM8-f5tkRT"
      },
      "execution_count": null,
      "outputs": []
    },
    {
      "cell_type": "code",
      "source": [
        "def generationnames(example, gap, filler, generated, size = 1):\n",
        "  with open(example, 'r') as f:\n",
        "    sentences = f.read().split('\\n\\n')\n",
        "  with open(gap, 'r') as f:\n",
        "    words = f.read().split('\\n\\n')\n",
        "  with open(filler, 'r') as f:\n",
        "    new_words = f.read().split('\\n')\n",
        "  paired = list(zip(sentences, words))\n",
        "  for new_word in new_words:\n",
        "    new = new_word.split('\\t')\n",
        "    for sentence, word in sample(paired, size):\n",
        "      old = word.split('\\n')\n",
        "      if len(old) == 7:\n",
        "        changed = changename(sentence, *old[1:4], *new)\n",
        "        pair = choice(new_words)\n",
        "        changed = changename(changed, *old[4:], *pair.split('\\t')) # changed = changename('id\\n'+changed, *old[4:], *pair.split('\\t'))\n",
        "      else:\n",
        "        changed = changename(sentence, *old[1:], *new)\n",
        "      with open(generated, 'a') as f:\n",
        "        f.write(changed)\n",
        "        f.write('\\n\\n')"
      ],
      "metadata": {
        "id": "7p2WFTJ9sdHf"
      },
      "execution_count": null,
      "outputs": []
    },
    {
      "cell_type": "code",
      "source": [
        "import os\n",
        "\n",
        "files = os.listdir('/content/drive/MyDrive/examples')"
      ],
      "metadata": {
        "id": "gFEdK50ebkve"
      },
      "execution_count": null,
      "outputs": []
    },
    {
      "cell_type": "code",
      "source": [
        "from google.colab import drive\n",
        "drive.mount('/content/drive')"
      ],
      "metadata": {
        "colab": {
          "base_uri": "https://localhost:8080/"
        },
        "id": "n3fjsJ1DRzOG",
        "outputId": "36a1db1c-6f2c-4adb-dc88-856eda65cbf6"
      },
      "execution_count": null,
      "outputs": [
        {
          "output_type": "stream",
          "name": "stdout",
          "text": [
            "Mounted at /content/drive\n"
          ]
        }
      ]
    },
    {
      "cell_type": "code",
      "source": [
        "types = [f.split('.')[0] for f in files if f.endswith('conll')]"
      ],
      "metadata": {
        "id": "UV2itCGHb3Zp"
      },
      "execution_count": null,
      "outputs": []
    },
    {
      "cell_type": "code",
      "source": [
        "for type in types:\n",
        "  with open(f'/content/drive/MyDrive/gaps/{type}.conll', 'r') as f:\n",
        "    names = f.read().split('\\n')\n",
        "    names = [n.strip() for n in names]\n",
        "  with open(f'/content/drive/MyDrive/gaps/{type}.conll', 'w') as f:\n",
        "    f.write('\\n'.join(names))"
      ],
      "metadata": {
        "id": "AxtYSelBMqAz"
      },
      "execution_count": null,
      "outputs": []
    },
    {
      "cell_type": "code",
      "source": [
        "for type in types:\n",
        "  if type != 'names':\n",
        "      generation(f'/content/drive/MyDrive/examples/{type}.conll', f'/content/drive/MyDrive/gaps/{type}.conll', f'/content/drive/MyDrive/fillers/{type}.txt', f'/content/drive/MyDrive/generated/{type}.conll', album=(type == 'albums'))\n",
        "  else:\n",
        "    generationnames(f'/content/drive/MyDrive/examples/{type}.conll', f'/content/drive/MyDrive/gaps/{type}.conll', f'/content/drive/MyDrive/fillers/{type}.txt', f'/content/drive/MyDrive/generated/{type}.conll')"
      ],
      "metadata": {
        "id": "0AZ3yy6KRgP0"
      },
      "execution_count": null,
      "outputs": []
    },
    {
      "cell_type": "code",
      "source": [
        "with open('generated.conll', 'w') as f:\n",
        "  for type in types:\n",
        "    with open(f'generated/{type}.conll', 'r') as f2:\n",
        "      f.write(f2.read())"
      ],
      "metadata": {
        "id": "MyBhjimmcS1Z"
      },
      "execution_count": null,
      "outputs": []
    },
    {
      "cell_type": "code",
      "source": [
        "!zip -r gaps.zip gaps/"
      ],
      "metadata": {
        "colab": {
          "base_uri": "https://localhost:8080/"
        },
        "id": "jVktc72LX3SK",
        "outputId": "038cfbb3-e66b-4619-9e3d-f38a5afc6e2d",
        "collapsed": true
      },
      "execution_count": null,
      "outputs": [
        {
          "output_type": "stream",
          "name": "stdout",
          "text": [
            "  adding: gaps/ (stored 0%)\n",
            "  adding: gaps/districts.conll (stored 0%)\n",
            "  adding: gaps/cinemas.conll (deflated 58%)\n",
            "  adding: gaps/artists.conll (deflated 37%)\n",
            "  adding: gaps/games.conll (deflated 10%)\n",
            "  adding: gaps/numbers.conll (deflated 22%)\n",
            "  adding: gaps/tvshows.conll (deflated 25%)\n",
            "  adding: gaps/names.conll (deflated 12%)\n",
            "  adding: gaps/books.conll (deflated 20%)\n",
            "  adding: gaps/movies.conll (deflated 39%)\n",
            "  adding: gaps/playlists.conll (deflated 42%)\n",
            "  adding: gaps/days.conll (deflated 29%)\n",
            "  adding: gaps/albums.conll (stored 0%)\n",
            "  adding: gaps/cities.conll (deflated 51%)\n",
            "  adding: gaps/restaurants.conll (deflated 27%)\n",
            "  adding: gaps/dishes.conll (deflated 22%)\n",
            "  adding: gaps/months.conll (deflated 39%)\n"
          ]
        }
      ]
    }
  ]
}